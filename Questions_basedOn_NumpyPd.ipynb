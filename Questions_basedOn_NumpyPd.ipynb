{
 "cells": [
  {
   "cell_type": "markdown",
   "id": "5c64ef6d",
   "metadata": {},
   "source": [
    "### Question 1: You are building a program that takes user input and checks if it is a valid date. What Python concepts would you use to validate the input, and how would you ensure that the date is in the correct format? Write the necessary function for that. Test the code with examples. Write comments and docstring to explain the code."
   ]
  },
  {
   "cell_type": "markdown",
   "id": "6a43768b",
   "metadata": {},
   "source": [
    "#### To validate user input as a valid date, we can use the datetime module in Python. We can use the strptime() method of the datetime class to parse the user input as a date object. If the input is not in the correct format, strptime() will raise a ValueError, which we can catch and handle accordingly."
   ]
  },
  {
   "cell_type": "code",
   "execution_count": 1,
   "id": "f7b20676",
   "metadata": {},
   "outputs": [],
   "source": [
    "from datetime import datetime\n",
    "\n",
    "def is_valid_date(date_string):\n",
    "    \n",
    "    try:\n",
    "        datetime.strptime(date_string, '%Y-%m-%d')\n",
    "        return True\n",
    "    except ValueError:\n",
    "        return False\n"
   ]
  },
  {
   "cell_type": "markdown",
   "id": "2e148a14",
   "metadata": {},
   "source": [
    "#### This function takes a string input and tries to parse it as a date object using the datetime.strptime() method. The '%Y-%m-%d' format string specifies that the input should be in the format of 'YYYY-MM-DD'. If the input is not in this format, a ValueError will be raised, and the function will return False."
   ]
  },
  {
   "cell_type": "code",
   "execution_count": 2,
   "id": "fb42f3ca",
   "metadata": {},
   "outputs": [
    {
     "name": "stdout",
     "output_type": "stream",
     "text": [
      "True\n",
      "False\n",
      "False\n",
      "False\n"
     ]
    }
   ],
   "source": [
    "print(is_valid_date('2022-01-01')) \n",
    "print(is_valid_date('01-01-2022')) \n",
    "print(is_valid_date('2022-13-01')) \n",
    "print(is_valid_date('2022-01-32')) \n"
   ]
  },
  {
   "cell_type": "markdown",
   "id": "827a641b",
   "metadata": {},
   "source": [
    "#### The first input is a valid date in the format of 'YYYY-MM-DD', so the function returns True. The remaining inputs are not valid dates, so the function returns False for each of them."
   ]
  },
  {
   "cell_type": "markdown",
   "id": "e6e2a970",
   "metadata": {},
   "source": [
    "### Question 2: You have a list of integers, and you want to find the highest and lowest values in the list. Write a function to accomplish this task? Test the code with examples. Write comments and docstring to explain the code."
   ]
  },
  {
   "cell_type": "code",
   "execution_count": 11,
   "id": "6616e502",
   "metadata": {},
   "outputs": [],
   "source": [
    "def find_min_max(lst):\n",
    "    if not lst:\n",
    "        return None\n",
    "\n",
    "    min_val = max_val = lst[0]\n",
    "\n",
    "    for val in lst:\n",
    "        if val < min_val:\n",
    "            min_val = val\n",
    "        if val > max_val:\n",
    "            max_val = val\n",
    "\n",
    "    print (min_val, max_val)\n"
   ]
  },
  {
   "cell_type": "markdown",
   "id": "0099a2cd",
   "metadata": {},
   "source": [
    "####  \n",
    "###    This function takes a list of integers as an input and returns the highest and lowest values in the list.\n",
    "\n",
    "####    Args:\n",
    "####    lst (list): A list of integers.\n",
    "\n",
    "####    Returns:\n",
    "####    tuple: A tuple containing the minimum and maximum values in the list.\n"
   ]
  },
  {
   "cell_type": "code",
   "execution_count": 13,
   "id": "cc54ee9e",
   "metadata": {},
   "outputs": [
    {
     "name": "stdout",
     "output_type": "stream",
     "text": [
      "1 5\n",
      "-10 10\n"
     ]
    }
   ],
   "source": [
    "find_min_max([1, 2, 3, 4, 5])\n",
    "find_min_max([-10, 0, 10])"
   ]
  },
  {
   "cell_type": "markdown",
   "id": "e5dfadb8",
   "metadata": {},
   "source": [
    "### Question 3: You are given a string that contains a list of words separated by commas. Write a function that converts the string into a list of words using Python string methods and Python list methods concepts. Test the code with examples. Write comments and docstring to explain the code."
   ]
  },
  {
   "cell_type": "markdown",
   "id": "bd5d79da",
   "metadata": {},
   "source": [
    "#### Convert a string of comma-separated words into a list of individual words.\n",
    "\n",
    "#### Args:\n",
    "####        string (str): A string of comma-separated words.\n",
    "\n",
    "####    Returns:\n",
    "####        list: A list of individual words.\n",
    "#### Here word_split split the string into a list of words using the comma as a separator.\n",
    "#### Here word.Strip() strip whitespace from each word in the list."
   ]
  },
  {
   "cell_type": "code",
   "execution_count": 14,
   "id": "3990c425",
   "metadata": {},
   "outputs": [],
   "source": [
    "def string_to_list(string):\n",
    "    \n",
    "    \n",
    "    word_list = string.split(',')\n",
    "\n",
    "    \n",
    "    word_list = [word.strip() for word in word_list]\n",
    "\n",
    "    return word_list\n"
   ]
  },
  {
   "cell_type": "code",
   "execution_count": 15,
   "id": "5fbc0720",
   "metadata": {},
   "outputs": [
    {
     "name": "stdout",
     "output_type": "stream",
     "text": [
      "['apple', 'banana', 'cherry', 'durian']\n"
     ]
    }
   ],
   "source": [
    "string = 'apple, banana, cherry, durian'\n",
    "word_list = string_to_list(string)\n",
    "print(word_list)"
   ]
  },
  {
   "cell_type": "markdown",
   "id": "baa19cf7",
   "metadata": {},
   "source": [
    "### Question 4: You are building a program that takes user input and checks if it is a valid credit card number. What Python concepts would you use to validate the input, and how would you ensure that the credit card number is in the correct format? Write the necessary function for that. Test the code with examples. Write comments and docstring to explain the code."
   ]
  },
  {
   "cell_type": "markdown",
   "id": "b8f89d78",
   "metadata": {},
   "source": [
    "#### \n",
    "####    Validates a list of credit card numbers in a Pandas dataframe using regular expressions and the Luhn algorithm.\n",
    "\n",
    "####    Args:\n",
    "        df (Pandas dataframe): A dataframe containing a column of credit card numbers.\n",
    "\n",
    "####    Returns:\n",
    "####        Pandas dataframe: A copy of the input dataframe with an additional column indicating\n",
    "####        whether each card number is valid or not.\n",
    "\n",
    "    "
   ]
  },
  {
   "cell_type": "code",
   "execution_count": 21,
   "id": "a49968c3",
   "metadata": {},
   "outputs": [],
   "source": [
    "import re\n",
    "import pandas as pd\n",
    "\n",
    "def validate_credit_card_numbers(df):\n",
    "    \n",
    "    pattern = r'^4\\d{3}[\\s-]?\\d{4}[\\s-]?\\d{4}[\\s-]?\\d{4}$'\n",
    "\n",
    "\n",
    "    df_copy = df.copy()\n",
    "\n",
    "\n",
    "    mask = df_copy['Card Number'].apply(lambda x: bool(re.match(pattern, x)))\n",
    "\n",
    "\n",
    "    df_copy['Card Number'] = df_copy['Card Number'].str.replace(' ', '').str.replace('-', '')\n",
    "\n",
    "\n",
    "    checksums = []\n",
    "    for card_number in df_copy['Card Number']:\n",
    "        checksum = 0\n",
    "        for i, digit in enumerate(card_number[::-1]):\n",
    "            if i % 2 == 0:\n",
    "                checksum += int(digit)\n",
    "            else:\n",
    "                checksum += sum(divmod(int(digit) * 2, 10))\n",
    "        checksums.append(checksum % 10 == 0)\n",
    "\n",
    "\n",
    "    df_copy['Valid'] = mask & pd.Series(checksums)\n",
    "\n",
    "\n",
    "    return df_copy\n"
   ]
  },
  {
   "cell_type": "code",
   "execution_count": 22,
   "id": "cfe7f387",
   "metadata": {},
   "outputs": [
    {
     "name": "stdout",
     "output_type": "stream",
     "text": [
      "   Name       Card Number  Valid\n",
      "0  John  4111111111111111   True\n",
      "1  Mary  5555555555554444  False\n",
      "2   Bob  1234567890123456  False\n"
     ]
    }
   ],
   "source": [
    "df = pd.DataFrame({\n",
    "    'Name': ['John', 'Mary', 'Bob'],\n",
    "    'Card Number': ['4111-1111-1111-1111', '5555 5555 5555 4444', '1234-5678-9012-3456']\n",
    "})\n",
    "valid_cards = validate_credit_card_numbers(df)\n",
    "print(valid_cards)"
   ]
  },
  {
   "cell_type": "markdown",
   "id": "f46feb16",
   "metadata": {},
   "source": [
    "### Question 5: You have a list of strings, and you want to sort the list in alphabetical order. Write the necessary function to accomplish this task? Test the code with examples. Write comments and docstring to explain the code."
   ]
  },
  {
   "cell_type": "code",
   "execution_count": 25,
   "id": "d9848a5c",
   "metadata": {},
   "outputs": [
    {
     "name": "stdout",
     "output_type": "stream",
     "text": [
      "   fruits\n",
      "1   apple\n",
      "0  banana\n",
      "2  cherry\n",
      "3    date\n"
     ]
    }
   ],
   "source": [
    "import pandas as pd\n",
    "\n",
    "df = pd.DataFrame({'fruits': ['banana', 'apple', 'cherry', 'date']})\n",
    "\n",
    "df.sort_values('fruits', inplace=True)\n",
    "\n",
    "print(df)\n",
    "\n"
   ]
  },
  {
   "cell_type": "code",
   "execution_count": null,
   "id": "b6f7479d",
   "metadata": {},
   "outputs": [],
   "source": []
  }
 ],
 "metadata": {
  "kernelspec": {
   "display_name": "Python 3 (ipykernel)",
   "language": "python",
   "name": "python3"
  },
  "language_info": {
   "codemirror_mode": {
    "name": "ipython",
    "version": 3
   },
   "file_extension": ".py",
   "mimetype": "text/x-python",
   "name": "python",
   "nbconvert_exporter": "python",
   "pygments_lexer": "ipython3",
   "version": "3.10.9"
  }
 },
 "nbformat": 4,
 "nbformat_minor": 5
}
