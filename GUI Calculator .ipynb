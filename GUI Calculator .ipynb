{
 "cells": [
  {
   "cell_type": "markdown",
   "id": "2ccf9f37",
   "metadata": {},
   "source": [
    "# In this project we will try to create a GUI based Calculator "
   ]
  },
  {
   "cell_type": "markdown",
   "id": "fd72127b",
   "metadata": {},
   "source": [
    "     "
   ]
  },
  {
   "cell_type": "markdown",
   "id": "62723ba1",
   "metadata": {},
   "source": [
    "### Frame: for providing a structure to your application\n",
    "### Buttons: used for taking input from the user\n",
    "### Checkbuttons: used for making selections\n",
    "### Labels: for displaying textual information\n",
    "### File Dialogs: for uploading ro downloading files to/from the application\n",
    "### Canvas: provides a space for drawing/painting things like graps and plots\n",
    "### The tkinter was created to equip mordern developer with a standard interface to the Tk gui toolkit with its Python bindings."
   ]
  },
  {
   "cell_type": "markdown",
   "id": "69fbd326",
   "metadata": {},
   "source": [
    "     "
   ]
  },
  {
   "cell_type": "markdown",
   "id": "9c42606b",
   "metadata": {},
   "source": [
    "### Why Tkinter?\n",
    "### Answer Python, when combined with Tkinter, provides a fast and easy way to create GUI applications. Tinter provides a powerful object-oriented interface to the Tk GUI tookkit, Creating a GUI application using Tlinter is an easy task."
   ]
  },
  {
   "cell_type": "markdown",
   "id": "6d643867",
   "metadata": {},
   "source": [
    "   "
   ]
  },
  {
   "cell_type": "markdown",
   "id": "a8282307",
   "metadata": {},
   "source": [
    "### What is root window?\n",
    "### The root window into which all other widgets go. It is an instance of the class Tk, and every tkinter application must have exactly one instance of this class app is an instance of the class App which is a subclass of Ftame "
   ]
  },
  {
   "cell_type": "markdown",
   "id": "8f2e885d",
   "metadata": {},
   "source": [
    "  "
   ]
  },
  {
   "cell_type": "markdown",
   "id": "221850fd",
   "metadata": {},
   "source": [
    "# Steps:-\n",
    "## Step 1: Importing the necessary modules \n",
    "### To use the Tkinter we need to import the Ticinter module. We are also going to Import the function factorial from math module.\n",
    "## Step 2: Making a window for out calculator \n",
    "### \n"
   ]
  },
  {
   "cell_type": "code",
   "execution_count": null,
   "id": "697d1069",
   "metadata": {},
   "outputs": [],
   "source": [
    "import tkinter as tk\n",
    "root =tk.Tk()\n",
    "root.title(\"Calculator\")\n",
    "root.geometry(\"644x970\")\n",
    "root.mainnloop() "
   ]
  },
  {
   "cell_type": "markdown",
   "id": "d7a9f1a7",
   "metadata": {},
   "source": [
    "### root.mainloop():- an infinite loop used to run the application, wait for an event to occur and process the event as long as the window is not closed"
   ]
  },
  {
   "cell_type": "code",
   "execution_count": 3,
   "id": "1f005d67",
   "metadata": {},
   "outputs": [],
   "source": [
    "import tkinter as tk\n",
    "\n",
    "def calculate():\n",
    "# Get the values entered by the user and convert them to integers\n",
    "    first_number = int(first_number_entry.get())\n",
    "    second_number = int(second_number_entry.get())\n",
    "    operator = operator_entry.get()\n",
    "\n",
    "# Check which operator was selected and perform the corresponding calculation\n",
    "    if operator == \"1\":\n",
    "        result = first_number + second_number\n",
    "        result_label.config(text=\"Result: \" + str(result))\n",
    "    elif operator == \"2\":\n",
    "        result = first_number - second_number\n",
    "        result_label.config(text=\"Result: \" + str(result))\n",
    "    elif operator == \"3\":\n",
    "        result = first_number * second_number\n",
    "        result_label.config(text=\"Result: \" + str(result))\n",
    "    elif operator == \"4\":\n",
    "        result = first_number / second_number\n",
    "        result_label.config(text=\"Result: \" + str(result))\n",
    "    else:\n",
    "        result_label.config(text=\"Invalid operator\")\n",
    "\n",
    "# Create the main window of the GUI\n",
    "root = tk.Tk()\n",
    "root.title(\"Calculator\")\n",
    "\n",
    "# Create a label and an entry field for the first number\n",
    "first_number_label = tk.Label(root, text=\"First number\")\n",
    "first_number_label.pack()\n",
    "first_number_entry = tk.Entry(root)\n",
    "first_number_entry.pack()\n",
    "\n",
    "# Create a label and an entry field for the second number\n",
    "second_number_label = tk.Label(root, text=\"Second number\")\n",
    "second_number_label.pack()\n",
    "second_number_entry = tk.Entry(root)\n",
    "second_number_entry.pack()\n",
    "\n",
    "# Create a label and an entry field for the operator\n",
    "operator_label = tk.Label(root, text=\"Operator (1-Addition, 2-Subtraction, 3-Multiplication, 4-Division)\")\n",
    "operator_label.pack()\n",
    "operator_entry = tk.Entry(root)\n",
    "operator_entry.pack()\n",
    "\n",
    "# Create a button to trigger the calculation function\n",
    "calculate_button = tk.Button(root, text=\"Calculate\", command=calculate)\n",
    "calculate_button.pack()\n",
    "\n",
    "# Create a label to display the result of the calculation\n",
    "result_label = tk.Label(root, text=\"Result\")\n",
    "result_label.pack()\n",
    "\n",
    "# Start the GUI event loop\n",
    "root.mainloop()"
   ]
  },
  {
   "cell_type": "markdown",
   "id": "20a0dfaf",
   "metadata": {},
   "source": [
    "# Explanation "
   ]
  },
  {
   "cell_type": "markdown",
   "id": "313c4696",
   "metadata": {},
   "source": [
    "### The code is a simple GUI calculator that allows the user to enter two numbers and select an operator to perform a calculation.\n",
    "### The code uses the tkinter module to create a graphical user interface.\n",
    "### The calculate() function is called when the user clicks the \"Calculate\" button and performs the calculation based on the values entered by the user.\n",
    "### The GUI elements (labels, entry fields, button, and result label) are created using the tkinter widgets and packed into the window.\n",
    "### The mainloop() function starts the event loop of the GUI and waits for user input."
   ]
  },
  {
   "cell_type": "code",
   "execution_count": null,
   "id": "a567d3f5",
   "metadata": {},
   "outputs": [],
   "source": []
  }
 ],
 "metadata": {
  "kernelspec": {
   "display_name": "Python 3 (ipykernel)",
   "language": "python",
   "name": "python3"
  },
  "language_info": {
   "codemirror_mode": {
    "name": "ipython",
    "version": 3
   },
   "file_extension": ".py",
   "mimetype": "text/x-python",
   "name": "python",
   "nbconvert_exporter": "python",
   "pygments_lexer": "ipython3",
   "version": "3.9.13"
  }
 },
 "nbformat": 4,
 "nbformat_minor": 5
}
