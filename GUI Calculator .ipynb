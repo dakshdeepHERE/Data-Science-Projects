{
 "cells": [
  {
   "cell_type": "markdown",
   "id": "2ccf9f37",
   "metadata": {},
   "source": [
    "# In this oroject we will try to create a GUI based Calculator "
   ]
  },
  {
   "cell_type": "markdown",
   "id": "fd72127b",
   "metadata": {},
   "source": []
  },
  {
   "cell_type": "markdown",
   "id": "62723ba1",
   "metadata": {},
   "source": [
    "### Frame: for providing a structure to your application\n",
    "### Buttons: used for taking input from the user\n",
    "### Checkbuttons: used for making selections\n",
    "### Labels: for displaying textual information\n",
    "### File Dialogs: for uploading ro downloading files to/from the application\n",
    "### Canvas: provides a space for drawing/painting things like graps and plots\n",
    "### The tkinter was created to equip mordern developer with a standard interface to the Tk gui toolkit with its Python bindings."
   ]
  },
  {
   "cell_type": "markdown",
   "id": "9a0787a2",
   "metadata": {},
   "source": []
  },
  {
   "cell_type": "markdown",
   "id": "9c42606b",
   "metadata": {},
   "source": [
    "### Why Tkinter?\n",
    "### Answer Python, when combined with Tkinter, provides a fast and easy way to create GUI applications. Tinter provides a powerful object-oriented interface to the Tk GUI tookkit, Creating a GUI application using Tlinter is an easy task."
   ]
  },
  {
   "cell_type": "markdown",
   "id": "6d643867",
   "metadata": {},
   "source": []
  },
  {
   "cell_type": "markdown",
   "id": "a8282307",
   "metadata": {},
   "source": [
    "### What is root window?\n",
    "### The root window into which all other widgets go. It is an instance of the class Tk, and every tkinter application must have exactly one instance of this class app is an instance of the class App which is a subclass of Ftame "
   ]
  },
  {
   "cell_type": "markdown",
   "id": "8f2e885d",
   "metadata": {},
   "source": []
  },
  {
   "cell_type": "markdown",
   "id": "221850fd",
   "metadata": {},
   "source": [
    "# Steps:-\n",
    "## Step 1: Importing the necessary modules \n",
    "### To use the Tkinter we need to import the Ticinter module. We are also going to Import the function factorial from math module.\n",
    "## Step 2: Making a window for out calculator \n",
    "### \n"
   ]
  },
  {
   "cell_type": "code",
   "execution_count": null,
   "id": "697d1069",
   "metadata": {},
   "outputs": [],
   "source": [
    "import tkinter as tk\n",
    "root =tk.Tk()\n",
    "root.title(\"Calculator\")\n",
    "root.geometry(\"644x970\")\n",
    "root.mainnloop() "
   ]
  },
  {
   "cell_type": "markdown",
   "id": "d7a9f1a7",
   "metadata": {},
   "source": [
    "### root.mainloop():- an infinite loop used to run the application, wait for an event to occur and process the event as long as the window is not closed"
   ]
  },
  {
   "cell_type": "code",
   "execution_count": null,
   "id": "26091824",
   "metadata": {},
   "outputs": [],
   "source": []
  }
 ],
 "metadata": {
  "kernelspec": {
   "display_name": "Python 3 (ipykernel)",
   "language": "python",
   "name": "python3"
  },
  "language_info": {
   "codemirror_mode": {
    "name": "ipython",
    "version": 3
   },
   "file_extension": ".py",
   "mimetype": "text/x-python",
   "name": "python",
   "nbconvert_exporter": "python",
   "pygments_lexer": "ipython3",
   "version": "3.9.13"
  }
 },
 "nbformat": 4,
 "nbformat_minor": 5
}
