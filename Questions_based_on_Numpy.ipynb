{
 "cells": [
  {
   "cell_type": "markdown",
   "id": "85dcff2c",
   "metadata": {},
   "source": [
    "# Questions based on Numpy(Roadmap to data science)"
   ]
  },
  {
   "cell_type": "markdown",
   "id": "aff6a94d",
   "metadata": {},
   "source": [
    "## Question 1:- You have an array a of shape (5, 5) containing random values between 0 and 1. Using NumPy, create a new array b that contains the same values as a, but with all values below 0.5 set to 0 and all values above or equal to 0.5 set to 1."
   ]
  },
  {
   "cell_type": "code",
   "execution_count": 3,
   "id": "d67cb274",
   "metadata": {},
   "outputs": [
    {
     "name": "stdout",
     "output_type": "stream",
     "text": [
      "Array a:\n",
      "[[0.52360881 0.41979299 0.16739624 0.40421024 0.58013879]\n",
      " [0.62902627 0.51149465 0.96880603 0.21974364 0.16501016]\n",
      " [0.56722252 0.92990421 0.38951333 0.59281183 0.95377422]\n",
      " [0.99827873 0.58215478 0.98050397 0.03853933 0.69033583]\n",
      " [0.5874322  0.17550569 0.93219081 0.34489061 0.30300175]]\n",
      "Array b:\n",
      "[[1 0 0 0 1]\n",
      " [1 1 1 0 0]\n",
      " [1 1 0 1 1]\n",
      " [1 1 1 0 1]\n",
      " [1 0 1 0 0]]\n"
     ]
    }
   ],
   "source": [
    "import numpy as np\n",
    "a = np.random.rand(5, 5)\n",
    "b = np.where(a >= 0.5, 1, 0)\n",
    "print(\"Array a:\")\n",
    "print(a)\n",
    "print(\"Array b:\")\n",
    "print(b)"
   ]
  },
  {
   "cell_type": "markdown",
   "id": "10166951",
   "metadata": {},
   "source": [
    "## Question 2:- You have an array a of shape (4, 4) containing random integers between 0 and 9. Using NumPy, create a new array b that contains the product of the even values in each row of a."
   ]
  },
  {
   "cell_type": "code",
   "execution_count": 1,
   "id": "61cde860",
   "metadata": {},
   "outputs": [
    {
     "name": "stdout",
     "output_type": "stream",
     "text": [
      "Array a:\n",
      " [[2 9 7 6]\n",
      " [5 3 5 2]\n",
      " [8 9 9 2]\n",
      " [8 4 4 5]]\n",
      "Array b:\n",
      " [ 12.   2.  16. 128.]\n"
     ]
    }
   ],
   "source": [
    "import numpy as np\n",
    "\n",
    "a = np.random.randint(0, 10, size=(4, 4))\n",
    "print(\"Array a:\\n\", a)\n",
    "\n",
    "even_mask = np.mod(a, 2) == 0\n",
    "\n",
    "b = np.zeros(a.shape[0])\n",
    "for i in range(a.shape[0]):\n",
    "    if np.any(even_mask[i]):\n",
    "        b[i] = np.product(a[i][even_mask[i]])\n",
    "\n",
    "print(\"Array b:\\n\", b)\n"
   ]
  },
  {
   "cell_type": "markdown",
   "id": "b5cfdd35",
   "metadata": {},
   "source": [
    "## Question 3:- You have an array a of shape (3, 3) and a vector v of shape (3,). Using NumPy, create a new array b that contains the product of a and v using broadcasting."
   ]
  },
  {
   "cell_type": "code",
   "execution_count": 2,
   "id": "3bd140ca",
   "metadata": {},
   "outputs": [
    {
     "name": "stdout",
     "output_type": "stream",
     "text": [
      "Array a:\n",
      " [[6 6 5]\n",
      " [0 5 2]\n",
      " [1 3 3]]\n",
      "Vector v: [5 1 8]\n",
      "Array b:\n",
      " [[30 30 25]\n",
      " [ 0  5  2]\n",
      " [ 8 24 24]]\n"
     ]
    }
   ],
   "source": [
    "import numpy as np\n",
    "\n",
    "a = np.random.randint(0, 10, size=(3, 3))\n",
    "print(\"Array a:\\n\", a)\n",
    "\n",
    "v = np.random.randint(0, 10, size=(3,))\n",
    "print(\"Vector v:\", v)\n",
    "\n",
    "b = a * v[:, np.newaxis]\n",
    "\n",
    "print(\"Array b:\\n\", b)\n"
   ]
  },
  {
   "cell_type": "markdown",
   "id": "109f8406",
   "metadata": {},
   "source": [
    "## Question 4:- You have an array a of shape (3, 3) and an array b of shape (3, 1). Using NumPy, create a new array c that contains the sum of a and b using broadcasting."
   ]
  },
  {
   "cell_type": "code",
   "execution_count": 3,
   "id": "21782831",
   "metadata": {},
   "outputs": [
    {
     "name": "stdout",
     "output_type": "stream",
     "text": [
      "Array a:\n",
      " [[6 0 1]\n",
      " [4 3 6]\n",
      " [2 9 2]]\n",
      "Array b:\n",
      " [[1]\n",
      " [5]\n",
      " [0]]\n",
      "Array c:\n",
      " [[ 7  1  2]\n",
      " [ 9  8 11]\n",
      " [ 2  9  2]]\n"
     ]
    }
   ],
   "source": [
    "import numpy as np\n",
    "\n",
    "a = np.random.randint(0, 10, size=(3, 3))\n",
    "print(\"Array a:\\n\", a)\n",
    "\n",
    "b = np.random.randint(0, 10, size=(3, 1))\n",
    "print(\"Array b:\\n\", b)\n",
    "\n",
    "c = a + b\n",
    "\n",
    "print(\"Array c:\\n\", c)\n"
   ]
  },
  {
   "cell_type": "markdown",
   "id": "b24e0194",
   "metadata": {},
   "source": [
    "## Question 5:- You have an array a of shape (2, 2) and an array b of shape (2, 2). Using NumPy, create a new array c that contains the element-wise maximum of a and b."
   ]
  },
  {
   "cell_type": "code",
   "execution_count": 5,
   "id": "f3ce191e",
   "metadata": {},
   "outputs": [
    {
     "name": "stdout",
     "output_type": "stream",
     "text": [
      "Array a:\n",
      " [[6 1]\n",
      " [2 1]]\n",
      "Array b:\n",
      " [[1 3]\n",
      " [2 4]]\n",
      "Array c:\n",
      " [[6 3]\n",
      " [2 4]]\n"
     ]
    }
   ],
   "source": [
    "import numpy as np\n",
    "\n",
    "a = np.random.randint(0, 10, size=(2, 2))\n",
    "b = np.random.randint(0, 10, size=(2, 2))\n",
    "\n",
    "print(\"Array a:\\n\", a)\n",
    "print(\"Array b:\\n\", b)\n",
    "\n",
    "c = np.maximum(a, b)\n",
    "\n",
    "print(\"Array c:\\n\", c)\n"
   ]
  },
  {
   "cell_type": "markdown",
   "id": "81a7c5dd",
   "metadata": {},
   "source": [
    "## Question 6:-You have an array a of shape (3, 3) containing random integers between 0 and 9. Using NumPy, create a new array b that contains the indices of the maximum value in each row of a."
   ]
  },
  {
   "cell_type": "code",
   "execution_count": 6,
   "id": "58fd96cf",
   "metadata": {},
   "outputs": [
    {
     "name": "stdout",
     "output_type": "stream",
     "text": [
      "Array a:\n",
      " [[4 1 2]\n",
      " [4 4 3]\n",
      " [2 5 1]]\n",
      "Array b:\n",
      " [0 0 1]\n"
     ]
    }
   ],
   "source": [
    "import numpy as np\n",
    "\n",
    "a = np.random.randint(0, 10, size=(3, 3))\n",
    "print(\"Array a:\\n\", a)\n",
    "\n",
    "b = np.argmax(a, axis=1)\n",
    "\n",
    "print(\"Array b:\\n\", b)\n"
   ]
  },
  {
   "cell_type": "markdown",
   "id": "347f4060",
   "metadata": {},
   "source": [
    "## 7. You have two arrays a and b of shape (3, 3) containing random integers between 0 and 9. Using NumPy, create a new array c that contains the element-wise division of a and b, replacing any division by 0 with NaN."
   ]
  },
  {
   "cell_type": "code",
   "execution_count": 7,
   "id": "b9509237",
   "metadata": {},
   "outputs": [
    {
     "name": "stdout",
     "output_type": "stream",
     "text": [
      "Array a:\n",
      " [[5 3 3]\n",
      " [5 1 8]\n",
      " [1 9 8]]\n",
      "Array b:\n",
      " [[6 9 0]\n",
      " [1 4 2]\n",
      " [9 5 7]]\n",
      "Array c:\n",
      " [[0.83333333 0.33333333        inf]\n",
      " [5.         0.25       4.        ]\n",
      " [0.11111111 1.8        1.14285714]]\n"
     ]
    },
    {
     "name": "stderr",
     "output_type": "stream",
     "text": [
      "/var/folders/v2/hcdc1np169dfg84n3tmq3rbr0000gn/T/ipykernel_44452/1210863927.py:6: RuntimeWarning: divide by zero encountered in divide\n",
      "  c = np.divide(a, b)\n"
     ]
    }
   ],
   "source": [
    "import numpy as np\n",
    "\n",
    "a = np.random.randint(0, 10, size=(3,3))\n",
    "b = np.random.randint(0, 10, size=(3,3))\n",
    "\n",
    "c = np.divide(a, b)\n",
    "c = np.where(np.isnan(c), 0, c)\n",
    "\n",
    "print(\"Array a:\\n\", a)\n",
    "print(\"Array b:\\n\", b)\n",
    "print(\"Array c:\\n\", c)\n"
   ]
  },
  {
   "cell_type": "markdown",
   "id": "a3aef50d",
   "metadata": {},
   "source": [
    "## Question 8:- You have an array a of shape (3, 3) containing random integers between 0 and 9. Using NumPy, create a new array b that contains the cumulative sum of the rows of a."
   ]
  },
  {
   "cell_type": "code",
   "execution_count": 8,
   "id": "61b2cfa7",
   "metadata": {},
   "outputs": [
    {
     "name": "stdout",
     "output_type": "stream",
     "text": [
      "Array a:\n",
      " [[8 5 7]\n",
      " [1 7 3]\n",
      " [4 2 1]]\n",
      "Array b:\n",
      " [[ 8 13 20]\n",
      " [ 1  8 11]\n",
      " [ 4  6  7]]\n"
     ]
    }
   ],
   "source": [
    "import numpy as np\n",
    "\n",
    "a = np.random.randint(0, 10, size=(3,3))\n",
    "b = np.cumsum(a, axis=1)\n",
    "\n",
    "print(\"Array a:\\n\", a)\n",
    "print(\"Array b:\\n\", b)\n"
   ]
  },
  {
   "cell_type": "code",
   "execution_count": null,
   "id": "67a0a3e3",
   "metadata": {},
   "outputs": [],
   "source": []
  }
 ],
 "metadata": {
  "kernelspec": {
   "display_name": "Python 3 (ipykernel)",
   "language": "python",
   "name": "python3"
  },
  "language_info": {
   "codemirror_mode": {
    "name": "ipython",
    "version": 3
   },
   "file_extension": ".py",
   "mimetype": "text/x-python",
   "name": "python",
   "nbconvert_exporter": "python",
   "pygments_lexer": "ipython3",
   "version": "3.10.9"
  }
 },
 "nbformat": 4,
 "nbformat_minor": 5
}
