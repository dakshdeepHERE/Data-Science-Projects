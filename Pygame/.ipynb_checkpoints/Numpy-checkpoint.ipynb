{
 "cells": [
  {
   "cell_type": "markdown",
   "id": "78cf6c9b",
   "metadata": {},
   "source": [
    "# 1D array"
   ]
  },
  {
   "cell_type": "code",
   "execution_count": 24,
   "id": "a5db35ee",
   "metadata": {},
   "outputs": [
    {
     "name": "stdout",
     "output_type": "stream",
     "text": [
      "1D array [1 2 3]\n"
     ]
    }
   ],
   "source": [
    "import colorama\n",
    "from colorama import Fore\n",
    "import numpy as np \n",
    "a = np.array([1,2,3])\n",
    "print(\"1D array\", a)"
   ]
  },
  {
   "cell_type": "markdown",
   "id": "0ac690c7",
   "metadata": {},
   "source": [
    "# 2D array"
   ]
  },
  {
   "cell_type": "code",
   "execution_count": 25,
   "id": "10e51b96",
   "metadata": {},
   "outputs": [
    {
     "data": {
      "text/plain": [
       "array([[   1,    2,    3,    4,    5],\n",
       "       [   1, 9911,   21, 4121,    1]])"
      ]
     },
     "execution_count": 25,
     "metadata": {},
     "output_type": "execute_result"
    }
   ],
   "source": [
    "b = np.array([[1,2,3,4,5],[1,9911,21,4121,1]])\n",
    "b"
   ]
  },
  {
   "cell_type": "code",
   "execution_count": 26,
   "id": "62b79ac4",
   "metadata": {},
   "outputs": [
    {
     "data": {
      "text/plain": [
       "array(10, dtype=int32)"
      ]
     },
     "execution_count": 26,
     "metadata": {},
     "output_type": "execute_result"
    }
   ],
   "source": [
    "var = np.array(10,dtype=np.int32)\n",
    "var"
   ]
  },
  {
   "cell_type": "markdown",
   "id": "faba09dc",
   "metadata": {},
   "source": [
    "# arange"
   ]
  },
  {
   "cell_type": "code",
   "execution_count": 27,
   "id": "07074418",
   "metadata": {},
   "outputs": [
    {
     "data": {
      "text/plain": [
       "array([0, 1, 2, 3, 4, 5, 6, 7, 8, 9])"
      ]
     },
     "execution_count": 27,
     "metadata": {},
     "output_type": "execute_result"
    }
   ],
   "source": [
    "p =np.arange(10)\n",
    "p\n",
    "# prints the range from 0 to n(given number in the function arange)"
   ]
  },
  {
   "cell_type": "markdown",
   "id": "47d7269e",
   "metadata": {},
   "source": [
    "# Empty"
   ]
  },
  {
   "cell_type": "code",
   "execution_count": 28,
   "id": "5246adaf",
   "metadata": {},
   "outputs": [
    {
     "data": {
      "text/plain": [
       "array([ 1.  ,  2.75,  6.  , 10.75, 17.  ])"
      ]
     },
     "execution_count": 28,
     "metadata": {},
     "output_type": "execute_result"
    }
   ],
   "source": [
    "a1 = np.empty(5)\n",
    "a1\n",
    "# creates a array with random numbers and these numbers depends on the state of the memory "
   ]
  },
  {
   "cell_type": "markdown",
   "id": "69156969",
   "metadata": {},
   "source": [
    "# Reshaping and shape functions of numpy"
   ]
  },
  {
   "cell_type": "code",
   "execution_count": 29,
   "id": "908efd1e",
   "metadata": {},
   "outputs": [
    {
     "name": "stdout",
     "output_type": "stream",
     "text": [
      "[[   1    2]\n",
      " [   3    4]\n",
      " [   5    1]\n",
      " [9911   21]\n",
      " [4121    1]]  5 colomns and 2 rows\n",
      "-----------------------------------------------------\n",
      "[[   1    2    3    4    5]\n",
      " [   1 9911   21 4121    1]]  2 colomns and 5 rows\n"
     ]
    }
   ],
   "source": [
    "print(b.reshape(5,2),\" 5 colomns and 2 rows\")\n",
    "print(\"-----------------------------------------------------\")\n",
    "# reshaped the 2D array in 5 colomns and 2 rows \n",
    "print(b.reshape(2,5), \" 2 colomns and 5 rows\")"
   ]
  },
  {
   "cell_type": "code",
   "execution_count": 38,
   "id": "1de1f2bc",
   "metadata": {},
   "outputs": [
    {
     "name": "stdout",
     "output_type": "stream",
     "text": [
      "(2, 5)\n",
      "(3,) This won't print any rows as it is a 1D array and 1D array only have 1 row\n",
      "\u001b[33m(3,)\n"
     ]
    }
   ],
   "source": [
    "print(b.shape)\n",
    "print(a.shape,\"This won't print any rows as it is a 1D array and 1D array only have 1 row\")\n",
    "print(Fore.YELLOW + str(a.shape) )"
   ]
  },
  {
   "cell_type": "markdown",
   "id": "c3bc3bac",
   "metadata": {},
   "source": [
    "# Slicing "
   ]
  },
  {
   "cell_type": "code",
   "execution_count": 56,
   "id": "4d1f0983",
   "metadata": {},
   "outputs": [
    {
     "name": "stdout",
     "output_type": "stream",
     "text": [
      "[[   1    2    3    4    5]\n",
      " [   1 9911   21 4121    1]]\n",
      "[[   1 9911   21 4121    1]]\n",
      "[[   1    2    3    4    5]\n",
      " [   1 9911   21 4121    1]]\n",
      "[   1    2    3    4    5    1 9911   21 4121    1]\n"
     ]
    }
   ],
   "source": [
    "print(b)\n",
    "print(b[1:4])\n",
    "\n",
    "print(np.vstack(b))\n",
    "print(np.hstack(b))"
   ]
  },
  {
   "cell_type": "code",
   "execution_count": 62,
   "id": "12183b2a",
   "metadata": {},
   "outputs": [
    {
     "name": "stdout",
     "output_type": "stream",
     "text": [
      "[ 0  1  2  3  4  5  6  7  8  9 10 11 12 13 14 15 16 17 18 19 20 21 22 23\n",
      " 24 25 26 27]\n"
     ]
    },
    {
     "data": {
      "text/plain": [
       "27"
      ]
     },
     "execution_count": 62,
     "metadata": {},
     "output_type": "execute_result"
    }
   ],
   "source": [
    "Ar = np.arange(28)\n",
    "print(Ar)\n",
    "np.max(Ar)"
   ]
  },
  {
   "cell_type": "code",
   "execution_count": null,
   "id": "10410ddc",
   "metadata": {},
   "outputs": [],
   "source": []
  }
 ],
 "metadata": {
  "kernelspec": {
   "display_name": "Python 3 (ipykernel)",
   "language": "python",
   "name": "python3"
  },
  "language_info": {
   "codemirror_mode": {
    "name": "ipython",
    "version": 3
   },
   "file_extension": ".py",
   "mimetype": "text/x-python",
   "name": "python",
   "nbconvert_exporter": "python",
   "pygments_lexer": "ipython3",
   "version": "3.10.9"
  }
 },
 "nbformat": 4,
 "nbformat_minor": 5
}
