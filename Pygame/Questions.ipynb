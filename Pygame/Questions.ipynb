{
 "cells": [
  {
   "cell_type": "markdown",
   "id": "440a2e6d",
   "metadata": {},
   "source": [
    "# Question 5: If there are n number of people and we have 2 food item like apple or pineapple. We have to distribute "
   ]
  },
  {
   "cell_type": "code",
   "execution_count": 5,
   "id": "9275bcc0",
   "metadata": {},
   "outputs": [
    {
     "name": "stdout",
     "output_type": "stream",
     "text": [
      "There are 126 ways to distribute apples and oranges among 5 people.\n"
     ]
    }
   ],
   "source": [
    "import math\n",
    "def count_distributions(number_of_people):\n",
    "    count = 0\n",
    "\n",
    "    for k in range(number_of_people//2 + 1):\n",
    "\n",
    "        count += math.comb(number_of_people, k)**2\n",
    "\n",
    "    return count\n",
    "\n",
    "number_of_people= 5\n",
    "distributions = count_distributions(number_of_people)\n",
    "\n",
    "print(f\"There are {distributions} ways to distribute apples and oranges among {number_of_people} people.\")\n",
    "\n",
    "# In this code, we use the math.comb() function to calculate the binomial coefficient (i.e., n choose k) and then sum up the squares of these coefficients\n",
    "\n",
    "# for k ranging from 0 to n/2. The // operator performs integer division in Python 3, which is used to ensure that we only iterate over k values up to n/2."
   ]
  },
  {
   "cell_type": "markdown",
   "id": "d9cdc998",
   "metadata": {},
   "source": [
    "# Question 4: Python code to find the avg of a list of numbers:"
   ]
  },
  {
   "cell_type": "code",
   "execution_count": null,
   "id": "4636644b",
   "metadata": {},
   "outputs": [],
   "source": []
  },
  {
   "cell_type": "code",
   "execution_count": null,
   "id": "41df1b09",
   "metadata": {},
   "outputs": [],
   "source": []
  },
  {
   "cell_type": "code",
   "execution_count": null,
   "id": "1367d386",
   "metadata": {},
   "outputs": [],
   "source": []
  },
  {
   "cell_type": "code",
   "execution_count": null,
   "id": "6f95e20e",
   "metadata": {},
   "outputs": [],
   "source": []
  },
  {
   "cell_type": "code",
   "execution_count": null,
   "id": "4e6ca80c",
   "metadata": {},
   "outputs": [],
   "source": []
  },
  {
   "cell_type": "code",
   "execution_count": null,
   "id": "4dac1c70",
   "metadata": {},
   "outputs": [],
   "source": []
  },
  {
   "cell_type": "code",
   "execution_count": null,
   "id": "59525d3d",
   "metadata": {},
   "outputs": [],
   "source": []
  },
  {
   "cell_type": "code",
   "execution_count": null,
   "id": "6c992067",
   "metadata": {},
   "outputs": [],
   "source": []
  },
  {
   "cell_type": "code",
   "execution_count": null,
   "id": "5bd739c2",
   "metadata": {},
   "outputs": [],
   "source": []
  },
  {
   "cell_type": "code",
   "execution_count": null,
   "id": "1df6342d",
   "metadata": {},
   "outputs": [],
   "source": []
  },
  {
   "cell_type": "code",
   "execution_count": null,
   "id": "6b250edf",
   "metadata": {},
   "outputs": [],
   "source": []
  },
  {
   "cell_type": "code",
   "execution_count": 1,
   "id": "eafcbba7",
   "metadata": {},
   "outputs": [
    {
     "name": "stdout",
     "output_type": "stream",
     "text": [
      "Enter the array of integers, separated by spaces: 10 12 122\n",
      "Enter the number of times to perform the operation: 1\n",
      "124\n"
     ]
    }
   ],
   "source": [
    "def largestSumAfterKNegations():\n",
    "    A = list(map(int, input(\"Enter the array of integers, separated by spaces: \").split()))\n",
    "    K = int(input(\"Enter the number of times to perform the operation: \"))\n",
    "    A.sort()\n",
    "    i = 0\n",
    "    while K > 0 and i < len(A) and A[i] < 0:\n",
    "        A[i] = -A[i]\n",
    "        K -= 1\n",
    "        i += 1\n",
    "    if K > 0 and K % 2 == 1:\n",
    "        A[0] = -A[0]\n",
    "    return sum(A)\n",
    "\n",
    "print(largestSumAfterKNegations())"
   ]
  },
  {
   "cell_type": "code",
   "execution_count": null,
   "id": "20205467",
   "metadata": {},
   "outputs": [],
   "source": []
  }
 ],
 "metadata": {
  "kernelspec": {
   "display_name": "Python 3 (ipykernel)",
   "language": "python",
   "name": "python3"
  },
  "language_info": {
   "codemirror_mode": {
    "name": "ipython",
    "version": 3
   },
   "file_extension": ".py",
   "mimetype": "text/x-python",
   "name": "python",
   "nbconvert_exporter": "python",
   "pygments_lexer": "ipython3",
   "version": "3.9.13"
  }
 },
 "nbformat": 4,
 "nbformat_minor": 5
}
