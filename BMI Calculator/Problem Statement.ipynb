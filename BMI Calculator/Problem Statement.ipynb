{
 "cells": [
  {
   "cell_type": "markdown",
   "id": "2a5279df",
   "metadata": {},
   "source": [
    "### Assignment: Problem Statement\n"
   ]
  },
  {
   "cell_type": "markdown",
   "id": "141fb547",
   "metadata": {},
   "source": [
    "***Let’s put ourselves in the shoes of a childcare provider.\n",
    "As childcare providers, we have an essential role in children’s lives by helping them learn and grow. You help children get the nourishment and energy they need to learn and grow by providing healthy meals.***\n",
    "\n",
    "***Also, keep in mind that preschoolers who eat a variety of healthy foods and play actively several times every day are less likely to be overweight or obese.In this assignment, you will try to calculate a child's nutritions, using Python. This is a compulsory individual assignment wherein you will write Python code to take input from the user,  set various conditions, calculate BMI and calorie consumption, and submit the code.***"
   ]
  },
  {
   "cell_type": "code",
   "execution_count": null,
   "id": "98d3e189",
   "metadata": {},
   "outputs": [],
   "source": []
  }
 ],
 "metadata": {
  "kernelspec": {
   "display_name": "Python 3 (ipykernel)",
   "language": "python",
   "name": "python3"
  },
  "language_info": {
   "codemirror_mode": {
    "name": "ipython",
    "version": 3
   },
   "file_extension": ".py",
   "mimetype": "text/x-python",
   "name": "python",
   "nbconvert_exporter": "python",
   "pygments_lexer": "ipython3",
   "version": "3.9.13"
  }
 },
 "nbformat": 4,
 "nbformat_minor": 5
}
