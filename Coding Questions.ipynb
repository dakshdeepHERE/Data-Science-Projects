{
 "cells": [
  {
   "cell_type": "markdown",
   "id": "76af8231",
   "metadata": {},
   "source": [
    "### Q. You are tasked with developing a program that will help a charity keep track of their donations. Can you write a function that takes in the donor's name and the amount of the donation, and then adds it to the list of donations?"
   ]
  },
  {
   "cell_type": "code",
   "execution_count": 1,
   "id": "cfab38a8",
   "metadata": {},
   "outputs": [],
   "source": [
    "def add_donation(donor_name, donation_amount, donations_list):\n",
    "\n",
    "\n",
    "\n",
    "    new_donation = {\"name\": donor_name, \"amount\": donation_amount}\n",
    "    donations_list.append(new_donation)\n",
    "    donations_str = \"\"\n",
    "    for donation in donations_list:\n",
    "        donations_str += f\"{donation['name']}: {donation['amount']}\\n\"\n",
    "\n",
    "    return donations_str\n"
   ]
  },
  {
   "cell_type": "code",
   "execution_count": 2,
   "id": "bc8a6d8f",
   "metadata": {},
   "outputs": [
    {
     "name": "stdout",
     "output_type": "stream",
     "text": [
      "Rohit: 1200\n",
      "Rahul: 150\n",
      "Krish: 125\n",
      "Prateek: 2400\n",
      "\n"
     ]
    }
   ],
   "source": [
    "donations = [\n",
    "    {\"name\": \"Rohit\", \"amount\": 1200},\n",
    "    {\"name\": \"Rahul\", \"amount\": 150},\n",
    "    {\"name\": \"Krish\", \"amount\": 125}\n",
    "]\n",
    "\n",
    "donations_str = add_donation(\"Prateek\", 2400, donations)\n",
    "print(donations_str)\n"
   ]
  },
  {
   "cell_type": "markdown",
   "id": "6eb60791",
   "metadata": {},
   "source": [
    "### Q 1. You are working for a bank that wants to develop a program that will allow customers to check their account balance. Can you write a program that takes in the customer's account number and password, and then displays their account balance"
   ]
  },
  {
   "cell_type": "code",
   "execution_count": null,
   "id": "2fdf3dd7",
   "metadata": {},
   "outputs": [],
   "source": [
    "# Define account number, password and account balance\n",
    "account_number = \"1234567890\"\n",
    "password = \"mypassword\"\n",
    "account_balance = 1000.00\n",
    "\n",
    "# Prompt the user to enter their account number and password\n",
    "entered_account_number = input(\"Enter your account number: \")\n",
    "entered_password = input(\"Enter your password: \")\n",
    "\n",
    "# Check if the entered account number and password match with the stored values\n",
    "if entered_account_number == account_number and entered_password == password:\n",
    "    # If the account number and password match, display the account balance\n",
    "    print(\"Your account balance is: $\", account_balance)\n",
    "else:\n",
    "    # If the account number or password is incorrect, display an error message\n",
    "    print(\"Invalid account number or password. Please try again.\")\n"
   ]
  },
  {
   "cell_type": "markdown",
   "id": "d4143b4f",
   "metadata": {},
   "source": [
    "### Q 2. You are working for a company that wants to develop a program that will allow employees to log their working hours. Can you write a program that takes in the employee's name and the number of hours worked, and then displays the total number of hours worked for the week?"
   ]
  },
  {
   "cell_type": "code",
   "execution_count": 1,
   "id": "ec2963ef",
   "metadata": {},
   "outputs": [
    {
     "name": "stdout",
     "output_type": "stream",
     "text": [
      "Employee name: daksh \n",
      "Enter hours worked for Monday\n",
      "Hours worked: 10\n",
      "Enter hours worked for Tuesday\n",
      "Hours worked: 10\n",
      "Enter hours worked for Wednesday\n",
      "Hours worked: 10\n",
      "Enter hours worked for Thursday\n",
      "Hours worked: 10\n",
      "Enter hours worked for Friday\n",
      "Hours worked: 10\n",
      "Enter hours worked for Saturday\n",
      "Hours worked: 10\n",
      "Enter hours worked for Sunday\n",
      "Hours worked: 10\n",
      "daksh  worked a total of 70 hours this week.\n"
     ]
    }
   ],
   "source": [
    "# This method is used when we are talking about single employee\n",
    "# Initialize a dictionary to store the total hours worked for each employee\n",
    "employees = {}\n",
    "employee = input(\"Employee name: \")\n",
    "\n",
    "# Define a function to add an employee's hours to the dictionary\n",
    "def add_hours(employee, hours):\n",
    "    if employee in employees:\n",
    "        employees[employee] += hours\n",
    "    else:\n",
    "        employees[employee] = hours\n",
    "\n",
    "# Prompt the user to enter the employee's name and hours worked for each day of the week\n",
    "for day in [\"Monday\", \"Tuesday\", \"Wednesday\", \"Thursday\", \"Friday\", \"Saturday\", \"Sunday\"]:\n",
    "    \n",
    "    print(\"Enter hours worked for\", day)\n",
    "    hours = int(input(\"Hours worked: \"))\n",
    "    add_hours(employee, hours)\n",
    "\n",
    "# Print the total hours worked for each employee\n",
    "for employee, total_hours in employees.items():\n",
    "    print(employee, \"worked a total of\", total_hours, \"hours this week.\")\n"
   ]
  },
  {
   "cell_type": "code",
   "execution_count": null,
   "id": "23feccd6",
   "metadata": {},
   "outputs": [
    {
     "name": "stdout",
     "output_type": "stream",
     "text": [
      "Number of employee: 2\n",
      "Enter employee name: daksh1\n",
      "Enter hours worked for Monday\n",
      "Hours worked: 10\n",
      "Enter hours worked for Tuesday\n",
      "Hours worked: 10\n",
      "Enter hours worked for Wednesday\n",
      "Hours worked: 10\n",
      "Enter hours worked for Thursday\n",
      "Hours worked: 10\n",
      "Enter hours worked for Friday\n",
      "Hours worked: 19\n",
      "Enter hours worked for Saturday\n",
      "Hours worked: 10\n",
      "Enter hours worked for Sunday\n",
      "Hours worked: 10\n",
      "daksh1 worked a total of 79 hours this week.\n"
     ]
    }
   ],
   "source": [
    "# This method is used when we are talking about multiple employee\n",
    "# Prompt the user to enter the employee's name\n",
    "number_of_employee=int(input(\"Number of employee: \"))\n",
    "for employee in range(1,number_of_employee + 1):\n",
    "    \n",
    "    employee = input(\"Enter employee name: \")\n",
    "\n",
    "    # Initialize a variable to store the total hours worked for the week\n",
    "    total_hours = 0\n",
    "\n",
    "    # Prompt the user to enter the number of hours worked for each day of the week\n",
    "    for day in [\"Monday\", \"Tuesday\", \"Wednesday\", \"Thursday\", \"Friday\", \"Saturday\", \"Sunday\"]:\n",
    "        print(\"Enter hours worked for\", day)\n",
    "        hours = int(input(\"Hours worked: \"))\n",
    "        total_hours += hours\n",
    "\n",
    "    # Print the total hours worked for the week\n",
    "    print(employee, \"worked a total of\", total_hours, \"hours this week.\")\n"
   ]
  },
  {
   "cell_type": "markdown",
   "id": "d33d4cc6",
   "metadata": {},
   "source": [
    "### Q 3. Can you write a program that takes in a list of numbers and determines if they are in ascending or descending order?"
   ]
  },
  {
   "cell_type": "code",
   "execution_count": null,
   "id": "ca3dd505",
   "metadata": {},
   "outputs": [],
   "source": [
    "# Prompt the user to enter a list of numbers separated by commas\n",
    "number_list = input(\"Enter a list of numbers separated by commas: \")\n",
    "\n",
    "# Split the input string into a list of numbers\n",
    "numbers = [int(x) for x in number_list.split(\",\")]\n",
    "\n",
    "# Check if the list is in ascending order\n",
    "if numbers == sorted(numbers):\n",
    "    print(\"The list is in ascending order.\")\n",
    "# Check if the list is in descending order\n",
    "elif numbers == sorted(numbers, reverse=True):\n",
    "    print(\"The list is in descending order.\")\n",
    "else:\n",
    "    print(\"The list is not in ascending or descending order.\")\n",
    "\n",
    "# In this program, we first prompt the user to enter a list of numbers separated by commas using the input() function. We then split the input string into a list of numbers using the split() function and list comprehension.\n",
    "\n",
    "# We then check if the list is in ascending order using the sorted() function. If the sorted list is the same as the original list, we print a message indicating that the list is in ascending order.\n",
    "\n",
    "# If the list is not in ascending order, we check if it is in descending order by sorting the list in reverse order using the sorted() function with the reverse=True argument. If the sorted list in reverse order is the same as the original list, we print a message indicating that the list is in descending order.\n",
    "\n",
    "# If the list is not in ascending or descending order, we print a message indicating that the list is not sorted.\n",
    "\n",
    "# Note that this is a basic example and in a real-world scenario, additional error handling and input validation may be needed to ensure accurate and reliable data."
   ]
  },
  {
   "cell_type": "markdown",
   "id": "884a55ca",
   "metadata": {},
   "source": [
    "### Q 4. Can you write a program that reads in a text file and replaces every occurrence of a word with a different word?"
   ]
  },
  {
   "cell_type": "code",
   "execution_count": null,
   "id": "807180ff",
   "metadata": {},
   "outputs": [],
   "source": [
    "# Prompt the user to enter the name of the input and output files\n",
    "input_file = input(\"Enter the name of the input file: \")\n",
    "output_file = input(\"Enter the name of the output file: \")\n",
    "\n",
    "# Prompt the user to enter the word to replace and the replacement word\n",
    "replace_word = input(\"Enter the word to replace: \")\n",
    "replacement_word = input(\"Enter the replacement word: \")\n",
    "\n",
    "# Open the input file for reading and the output file for writing\n",
    "with open(input_file, \"r\") as input_f, open(output_file, \"w\") as output_f:\n",
    "    # Loop through each line in the input file\n",
    "    for line in input_f:\n",
    "        # Replace the word in the line with the replacement word\n",
    "        new_line = line.replace(replace_word, replacement_word)\n",
    "        # Write the new line to the output file\n",
    "        output_f.write(new_line)\n",
    "\n",
    "\n",
    "# In this program, we first prompt the user to enter the name of the input and output files using the input() function. We also prompt the user to enter the word to replace and the replacement word.\n",
    "\n",
    "# We then use the with statement to open the input file for reading and the output file for writing. We use the r mode for the input file and the w mode for the output file.\n",
    "\n",
    "# We then loop through each line in the input file using a for loop. For each line, we use the replace() method to replace the word to be replaced with the replacement word. We store the new line in the new_line variable.\n",
    "\n",
    "# We then use the write() method to write the new line to the output file. We repeat this process for each line in the input file.\n",
    "\n",
    "# After the program finishes running, the output file will contain the same text as the input file, but with every occurrence of the specified word replaced with the replacement word.\n",
    "\n",
    "# Note that this is a basic example and in a real-world scenario, additional error handling and input validation may be needed to ensure accurate and reliable data."
   ]
  },
  {
   "cell_type": "markdown",
   "id": "f770e855",
   "metadata": {},
   "source": [
    "### Q 5. Your task is to create a program that calculates the factorial of a number. Can you write a function that takes in a number and returns its factorial and sum of its digits?"
   ]
  },
  {
   "cell_type": "code",
   "execution_count": 1,
   "id": "4e0dba81",
   "metadata": {},
   "outputs": [
    {
     "name": "stdout",
     "output_type": "stream",
     "text": [
      "Factorial of 5 is: 120\n",
      "Sum of digits in factorial is: 3\n"
     ]
    }
   ],
   "source": [
    "def factorial_and_sum(number):\n",
    "    # Calculate the factorial\n",
    "    factorial = 1\n",
    "    for i in range(1, number+1):\n",
    "        factorial *= i\n",
    "\n",
    "    # Calculate the sum of the digits\n",
    "    sum_of_digits = sum(int(digit) for digit in str(factorial))\n",
    "\n",
    "    # Return the factorial and the sum of the digits\n",
    "    return factorial, sum_of_digits\n",
    "\n",
    "factorial, sum_of_digits = factorial_and_sum(5)\n",
    "print(\"Factorial of 5 is:\", factorial)\n",
    "print(\"Sum of digits in factorial is:\", sum_of_digits)\n"
   ]
  },
  {
   "cell_type": "code",
   "execution_count": null,
   "id": "0f01946d",
   "metadata": {},
   "outputs": [],
   "source": []
  }
 ],
 "metadata": {
  "kernelspec": {
   "display_name": "Python 3 (ipykernel)",
   "language": "python",
   "name": "python3"
  },
  "language_info": {
   "codemirror_mode": {
    "name": "ipython",
    "version": 3
   },
   "file_extension": ".py",
   "mimetype": "text/x-python",
   "name": "python",
   "nbconvert_exporter": "python",
   "pygments_lexer": "ipython3",
   "version": "3.9.13"
  }
 },
 "nbformat": 4,
 "nbformat_minor": 5
}
